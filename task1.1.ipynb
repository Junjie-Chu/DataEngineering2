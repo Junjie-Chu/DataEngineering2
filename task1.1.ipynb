{
 "cells": [
  {
   "cell_type": "code",
   "execution_count": 38,
   "id": "45209578",
   "metadata": {},
   "outputs": [],
   "source": [
    "from sklearn.ensemble import RandomForestClassifier\n",
    "from sklearn.datasets import fetch_covtype\n",
    "from sklearn.model_selection import train_test_split\n",
    "from sklearn.model_selection import GridSearchCV\n",
    "from sklearn.metrics import classification_report\n",
    "from tune_sklearn import TuneGridSearchCV\n",
    "from sklearn.model_selection import cross_val_score\n",
    "import time\n",
    "import ray"
   ]
  },
  {
   "cell_type": "code",
   "execution_count": 30,
   "id": "aceb2309",
   "metadata": {},
   "outputs": [
    {
     "name": "stderr",
     "output_type": "stream",
     "text": [
      "\u001b[2m\u001b[36m(pid=27646)\u001b[0m <ipython-input-30-95d0781bb000>:5: DeprecationWarning: ray.services.get_node_ip_address has been moved to ray.util.get_node_ip_address. 'ray.services' will be removed after Ray 1.4.\n",
      "\u001b[2m\u001b[36m(pid=27686)\u001b[0m <ipython-input-30-95d0781bb000>:5: DeprecationWarning: ray.services.get_node_ip_address has been moved to ray.util.get_node_ip_address. 'ray.services' will be removed after Ray 1.4.\n",
      "\u001b[2m\u001b[36m(pid=28640, ip=192.168.2.175)\u001b[0m <ipython-input-30-95d0781bb000>:5: DeprecationWarning: ray.services.get_node_ip_address has been moved to ray.util.get_node_ip_address. 'ray.services' will be removed after Ray 1.4.\n",
      "\u001b[2m\u001b[36m(pid=24462, ip=192.168.2.37)\u001b[0m <ipython-input-30-95d0781bb000>:5: DeprecationWarning: ray.services.get_node_ip_address has been moved to ray.util.get_node_ip_address. 'ray.services' will be removed after Ray 1.4.\n",
      "\u001b[2m\u001b[36m(pid=24495, ip=192.168.2.37)\u001b[0m <ipython-input-30-95d0781bb000>:5: DeprecationWarning: ray.services.get_node_ip_address has been moved to ray.util.get_node_ip_address. 'ray.services' will be removed after Ray 1.4.\n",
      "\u001b[2m\u001b[36m(pid=28641, ip=192.168.2.175)\u001b[0m <ipython-input-30-95d0781bb000>:5: DeprecationWarning: ray.services.get_node_ip_address has been moved to ray.util.get_node_ip_address. 'ray.services' will be removed after Ray 1.4.\n"
     ]
    },
    {
     "data": {
      "text/plain": [
       "{'192.168.2.175', '192.168.2.253', '192.168.2.37'}"
      ]
     },
     "execution_count": 30,
     "metadata": {},
     "output_type": "execute_result"
    }
   ],
   "source": [
    "#ray.init(address=\"192.168.2.253:6379\")\n",
    "@ray.remote\n",
    "def f():\n",
    "    time.sleep(0.01)\n",
    "    return ray.services.get_node_ip_address()\n",
    "\n",
    "# Get a list of the IP addresses of the nodes that have joined the cluster.\n",
    "set(ray.get([f.remote() for _ in range(1000)]))"
   ]
  },
  {
   "cell_type": "code",
   "execution_count": 39,
   "id": "ea12fbd8",
   "metadata": {
    "scrolled": false
   },
   "outputs": [
    {
     "name": "stdout",
     "output_type": "stream",
     "text": [
      "{'bootstrap': True, 'ccp_alpha': 0.0, 'class_weight': None, 'criterion': 'gini', 'max_depth': None, 'max_features': 'auto', 'max_leaf_nodes': None, 'max_samples': None, 'min_impurity_decrease': 0.0, 'min_impurity_split': None, 'min_samples_leaf': 1, 'min_samples_split': 2, 'min_weight_fraction_leaf': 0.0, 'n_estimators': 100, 'n_jobs': None, 'oob_score': False, 'random_state': 0, 'verbose': 0, 'warm_start': False}\n",
      "[0.83875 0.83525 0.841   0.8235  0.83675]\n"
     ]
    },
    {
     "data": {
      "text/plain": [
       "0.8404"
      ]
     },
     "execution_count": 39,
     "metadata": {},
     "output_type": "execute_result"
    }
   ],
   "source": [
    "X, y = fetch_covtype(return_X_y=True)\n",
    "X_train, X_test, y_train, y_test = train_test_split(X, y, train_size=20000,\n",
    "                                                    test_size=5000,\n",
    "                                                    random_state=42)\n",
    "rf0 = RandomForestClassifier(random_state=0)\n",
    "rf0.fit(X_train, y_train)\n",
    "print(rf0.get_params())\n",
    "print(cross_val_score(rf0, X_train, y_train, cv=5))\n",
    "rf0.score(X_test, y_test)"
   ]
  },
  {
   "cell_type": "code",
   "execution_count": 35,
   "id": "a993c0d9",
   "metadata": {},
   "outputs": [
    {
     "name": "stdout",
     "output_type": "stream",
     "text": [
      "totally cost 37.77263426780701\n",
      "{'params': [{'max_depth': 3, 'n_estimators': 100, 'ccp_alpha': 0.001}, {'max_depth': 3, 'n_estimators': 100, 'ccp_alpha': 0.01}, {'max_depth': 3, 'n_estimators': 100, 'ccp_alpha': 0.1}, {'max_depth': 2, 'n_estimators': 100, 'ccp_alpha': 0.001}, {'max_depth': 2, 'n_estimators': 100, 'ccp_alpha': 0.01}, {'max_depth': 2, 'n_estimators': 100, 'ccp_alpha': 0.1}, {'max_depth': 1, 'n_estimators': 100, 'ccp_alpha': 0.001}, {'max_depth': 1, 'n_estimators': 100, 'ccp_alpha': 0.01}, {'max_depth': 1, 'n_estimators': 100, 'ccp_alpha': 0.1}, {'max_depth': 3, 'n_estimators': 125, 'ccp_alpha': 0.001}, {'max_depth': 3, 'n_estimators': 125, 'ccp_alpha': 0.01}, {'max_depth': 3, 'n_estimators': 125, 'ccp_alpha': 0.1}, {'max_depth': 2, 'n_estimators': 125, 'ccp_alpha': 0.001}, {'max_depth': 2, 'n_estimators': 125, 'ccp_alpha': 0.01}, {'max_depth': 2, 'n_estimators': 125, 'ccp_alpha': 0.1}, {'max_depth': 1, 'n_estimators': 125, 'ccp_alpha': 0.001}, {'max_depth': 1, 'n_estimators': 125, 'ccp_alpha': 0.01}, {'max_depth': 1, 'n_estimators': 125, 'ccp_alpha': 0.1}, {'max_depth': 3, 'n_estimators': 150, 'ccp_alpha': 0.001}, {'max_depth': 3, 'n_estimators': 150, 'ccp_alpha': 0.01}, {'max_depth': 3, 'n_estimators': 150, 'ccp_alpha': 0.1}, {'max_depth': 2, 'n_estimators': 150, 'ccp_alpha': 0.001}, {'max_depth': 2, 'n_estimators': 150, 'ccp_alpha': 0.01}, {'max_depth': 2, 'n_estimators': 150, 'ccp_alpha': 0.1}, {'max_depth': 1, 'n_estimators': 150, 'ccp_alpha': 0.001}, {'max_depth': 1, 'n_estimators': 150, 'ccp_alpha': 0.01}, {'max_depth': 1, 'n_estimators': 150, 'ccp_alpha': 0.1}, {'max_depth': 3, 'n_estimators': 175, 'ccp_alpha': 0.001}, {'max_depth': 3, 'n_estimators': 175, 'ccp_alpha': 0.01}, {'max_depth': 3, 'n_estimators': 175, 'ccp_alpha': 0.1}, {'max_depth': 2, 'n_estimators': 175, 'ccp_alpha': 0.001}, {'max_depth': 2, 'n_estimators': 175, 'ccp_alpha': 0.01}, {'max_depth': 2, 'n_estimators': 175, 'ccp_alpha': 0.1}, {'max_depth': 1, 'n_estimators': 175, 'ccp_alpha': 0.001}, {'max_depth': 1, 'n_estimators': 175, 'ccp_alpha': 0.01}, {'max_depth': 1, 'n_estimators': 175, 'ccp_alpha': 0.1}], 'split0_test_score': array([0.666  , 0.64075, 0.48875, 0.5445 , 0.515  , 0.48875, 0.50275,\n",
      "       0.507  , 0.48875, 0.658  , 0.635  , 0.48875, 0.54   , 0.515  ,\n",
      "       0.48875, 0.4905 , 0.48875, 0.48875, 0.66275, 0.63325, 0.48875,\n",
      "       0.55475, 0.515  , 0.48875, 0.49075, 0.48875, 0.48875, 0.65525,\n",
      "       0.63025, 0.48875, 0.55975, 0.5155 , 0.48875, 0.49025, 0.48875,\n",
      "       0.48875]), 'split1_test_score': array([0.67075, 0.638  , 0.489  , 0.553  , 0.5165 , 0.489  , 0.49325,\n",
      "       0.489  , 0.489  , 0.6695 , 0.63525, 0.489  , 0.5485 , 0.51625,\n",
      "       0.489  , 0.48975, 0.489  , 0.489  , 0.679  , 0.6465 , 0.489  ,\n",
      "       0.57325, 0.525  , 0.489  , 0.489  , 0.489  , 0.489  , 0.6755 ,\n",
      "       0.6375 , 0.489  , 0.572  , 0.5265 , 0.489  , 0.489  , 0.489  ,\n",
      "       0.489  ]), 'split2_test_score': array([0.67325, 0.649  , 0.489  , 0.5415 , 0.5175 , 0.489  , 0.4945 ,\n",
      "       0.489  , 0.489  , 0.67025, 0.65075, 0.489  , 0.54125, 0.5175 ,\n",
      "       0.489  , 0.4895 , 0.489  , 0.489  , 0.6725 , 0.64975, 0.489  ,\n",
      "       0.55875, 0.5175 , 0.489  , 0.49275, 0.489  , 0.489  , 0.675  ,\n",
      "       0.64575, 0.489  , 0.562  , 0.5175 , 0.489  , 0.49275, 0.489  ,\n",
      "       0.489  ]), 'split3_test_score': array([0.662  , 0.6385 , 0.489  , 0.5485 , 0.52125, 0.489  , 0.49375,\n",
      "       0.489  , 0.489  , 0.665  , 0.63875, 0.489  , 0.54375, 0.521  ,\n",
      "       0.489  , 0.49025, 0.489  , 0.489  , 0.6685 , 0.638  , 0.489  ,\n",
      "       0.562  , 0.53675, 0.489  , 0.49375, 0.489  , 0.489  , 0.66375,\n",
      "       0.637  , 0.489  , 0.5655 , 0.5375 , 0.489  , 0.49125, 0.489  ,\n",
      "       0.489  ]), 'split4_test_score': array([0.687  , 0.65125, 0.48875, 0.54175, 0.5135 , 0.48875, 0.4925 ,\n",
      "       0.48875, 0.48875, 0.686  , 0.64625, 0.48875, 0.53575, 0.5135 ,\n",
      "       0.48875, 0.48875, 0.48875, 0.48875, 0.683  , 0.6505 , 0.48875,\n",
      "       0.5475 , 0.5135 , 0.48875, 0.493  , 0.48875, 0.48875, 0.677  ,\n",
      "       0.64175, 0.48875, 0.55125, 0.5135 , 0.48875, 0.4915 , 0.48875,\n",
      "       0.48875]), 'mean_test_score': array([0.6718 , 0.6435 , 0.4889 , 0.54585, 0.51675, 0.4889 , 0.49535,\n",
      "       0.49255, 0.4889 , 0.66975, 0.6412 , 0.4889 , 0.54185, 0.51665,\n",
      "       0.4889 , 0.48975, 0.4889 , 0.4889 , 0.67315, 0.6436 , 0.4889 ,\n",
      "       0.55925, 0.52155, 0.4889 , 0.49185, 0.4889 , 0.4889 , 0.6693 ,\n",
      "       0.63845, 0.4889 , 0.5621 , 0.5221 , 0.4889 , 0.49095, 0.4889 ,\n",
      "       0.4889 ]), 'std_test_score': array([0.00853141, 0.00553399, 0.00012247, 0.00437493, 0.00262679,\n",
      "       0.00012247, 0.00375699, 0.00722565, 0.00012247, 0.00921954,\n",
      "       0.00626977, 0.00012247, 0.00421485, 0.00254755, 0.00012247,\n",
      "       0.00061237, 0.00012247, 0.00012247, 0.00723118, 0.00681652,\n",
      "       0.00012247, 0.00851029, 0.00856796, 0.00012247, 0.00173638,\n",
      "       0.00012247, 0.00012247, 0.0084667 , 0.00518507, 0.00012247,\n",
      "       0.00682386, 0.00889044, 0.00012247, 0.00125897, 0.00012247,\n",
      "       0.00012247]), 'rank_test_score': array([ 2,  6, 22, 11, 15, 22, 17, 18, 22,  3,  7, 22, 12, 16, 22, 21, 22,\n",
      "       22,  1,  5, 22, 10, 14, 22, 19, 22, 22,  4,  8, 22,  9, 13, 22, 20,\n",
      "       22, 22], dtype=int32), 'time_total_s': array([4.43875575, 4.44103503, 4.54893827, 3.81230426, 3.75877619,\n",
      "       4.25784969, 2.8008256 , 2.80964875, 2.69943881, 6.14879155,\n",
      "       5.72372794, 5.91653919, 4.5651896 , 4.27733588, 4.40597272,\n",
      "       3.56156492, 3.61884236, 4.02448416, 6.38971233, 6.78671551,\n",
      "       6.46875453, 5.50538731, 5.81235814, 5.89962482, 4.04892612,\n",
      "       4.13948607, 4.44434953, 7.88187814, 8.39501119, 8.22699094,\n",
      "       6.12359118, 6.17539525, 6.58349681, 5.09959817, 4.76227474,\n",
      "       4.86833954]), 'training_iteration': array([1, 1, 1, 1, 1, 1, 1, 1, 1, 1, 1, 1, 1, 1, 1, 1, 1, 1, 1, 1, 1, 1,\n",
      "       1, 1, 1, 1, 1, 1, 1, 1, 1, 1, 1, 1, 1, 1]), 'param_max_depth': masked_array(data=[3, 3, 3, 2, 2, 2, 1, 1, 1, 3, 3, 3, 2, 2, 2, 1, 1, 1,\n",
      "                   3, 3, 3, 2, 2, 2, 1, 1, 1, 3, 3, 3, 2, 2, 2, 1, 1, 1],\n",
      "             mask=[False, False, False, False, False, False, False, False,\n",
      "                   False, False, False, False, False, False, False, False,\n",
      "                   False, False, False, False, False, False, False, False,\n",
      "                   False, False, False, False, False, False, False, False,\n",
      "                   False, False, False, False],\n",
      "       fill_value='?',\n",
      "            dtype=object), 'param_n_estimators': masked_array(data=[100, 100, 100, 100, 100, 100, 100, 100, 100, 125, 125,\n",
      "                   125, 125, 125, 125, 125, 125, 125, 150, 150, 150, 150,\n",
      "                   150, 150, 150, 150, 150, 175, 175, 175, 175, 175, 175,\n",
      "                   175, 175, 175],\n",
      "             mask=[False, False, False, False, False, False, False, False,\n",
      "                   False, False, False, False, False, False, False, False,\n",
      "                   False, False, False, False, False, False, False, False,\n",
      "                   False, False, False, False, False, False, False, False,\n",
      "                   False, False, False, False],\n",
      "       fill_value='?',\n",
      "            dtype=object), 'param_ccp_alpha': masked_array(data=[0.001, 0.01, 0.1, 0.001, 0.01, 0.1, 0.001, 0.01, 0.1,\n",
      "                   0.001, 0.01, 0.1, 0.001, 0.01, 0.1, 0.001, 0.01, 0.1,\n",
      "                   0.001, 0.01, 0.1, 0.001, 0.01, 0.1, 0.001, 0.01, 0.1,\n",
      "                   0.001, 0.01, 0.1, 0.001, 0.01, 0.1, 0.001, 0.01, 0.1],\n",
      "             mask=[False, False, False, False, False, False, False, False,\n",
      "                   False, False, False, False, False, False, False, False,\n",
      "                   False, False, False, False, False, False, False, False,\n",
      "                   False, False, False, False, False, False, False, False,\n",
      "                   False, False, False, False],\n",
      "       fill_value='?',\n",
      "            dtype=object)}\n"
     ]
    }
   ],
   "source": [
    "time_start=time.time()\n",
    "rf1 = RandomForestClassifier(random_state=0)\n",
    "param_dist = {\"max_depth\": [3,2,1],\n",
    "              \"n_estimators\": [100,125,150,175],\n",
    "              \"ccp_alpha\": [0.001,0.01,0.1]}\n",
    "rf1 = TuneGridSearchCV(rf1, param_dist)\n",
    "rf1.fit(X_train, y_train)\n",
    "time_end=time.time()\n",
    "print('totally cost',time_end-time_start)\n",
    "print(rf1.cv_results_)"
   ]
  },
  {
   "cell_type": "code",
   "execution_count": 36,
   "id": "54439b61",
   "metadata": {},
   "outputs": [
    {
     "name": "stdout",
     "output_type": "stream",
     "text": [
      "{'max_depth': 3, 'n_estimators': 150, 'ccp_alpha': 0.001}\n",
      "RandomForestClassifier(ccp_alpha=0.001, max_depth=3, n_estimators=150,\n",
      "                       random_state=0)\n"
     ]
    },
    {
     "data": {
      "text/plain": [
       "0.6688"
      ]
     },
     "execution_count": 36,
     "metadata": {},
     "output_type": "execute_result"
    }
   ],
   "source": [
    "print(rf1.best_params_)\n",
    "print(rf1.best_estimator_)\n",
    "rf1.best_estimator_.score(X_test, y_test)"
   ]
  },
  {
   "cell_type": "code",
   "execution_count": null,
   "id": "ec5e082f",
   "metadata": {},
   "outputs": [],
   "source": []
  }
 ],
 "metadata": {
  "kernelspec": {
   "display_name": "Python 3",
   "language": "python",
   "name": "python3"
  },
  "language_info": {
   "codemirror_mode": {
    "name": "ipython",
    "version": 3
   },
   "file_extension": ".py",
   "mimetype": "text/x-python",
   "name": "python",
   "nbconvert_exporter": "python",
   "pygments_lexer": "ipython3",
   "version": "3.8.5"
  }
 },
 "nbformat": 4,
 "nbformat_minor": 5
}
